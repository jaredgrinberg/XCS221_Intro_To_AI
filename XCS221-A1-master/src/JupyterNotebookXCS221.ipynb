{
 "cells": [
  {
   "cell_type": "code",
   "execution_count": 1,
   "id": "2b9392d3",
   "metadata": {},
   "outputs": [],
   "source": [
    "import random\n",
    "import collections\n",
    "import math\n",
    "import sys\n",
    "from util import *"
   ]
  },
  {
   "cell_type": "code",
   "execution_count": 2,
   "id": "0cee1457",
   "metadata": {},
   "outputs": [],
   "source": [
    "def plus(x,y):\n",
    "    return x+y"
   ]
  },
  {
   "cell_type": "code",
   "execution_count": 3,
   "id": "a5987818",
   "metadata": {},
   "outputs": [
    {
     "name": "stdout",
     "output_type": "stream",
     "text": [
      "5\n"
     ]
    }
   ],
   "source": [
    "print(plus(2,3))"
   ]
  },
  {
   "cell_type": "code",
   "execution_count": 1,
   "id": "76e5985f",
   "metadata": {},
   "outputs": [],
   "source": [
    "def extractWordFeatures(x):\n",
    "    \"\"\"\n",
    "    Extract word features for a string x. Words are delimited by\n",
    "    whitespace characters only.\n",
    "    @param string x: \n",
    "    @return dict: feature vector representation of x.\n",
    "    Example: \"I am what I am\" --> {'I': 2, 'am': 2, 'what': 1}\n",
    "    \"\"\"\n",
    "    pass\n",
    "    # ### START CODE HERE ###\n",
    "    words = x.split()\n",
    "    phi = {}\n",
    "    for word in words:\n",
    "        phi[word] += 1\n",
    "    return phi"
   ]
  },
  {
   "cell_type": "code",
   "execution_count": 2,
   "id": "d040eb0c",
   "metadata": {},
   "outputs": [
    {
     "ename": "KeyError",
     "evalue": "'I'",
     "output_type": "error",
     "traceback": [
      "\u001b[0;31m---------------------------------------------------------------------------\u001b[0m",
      "\u001b[0;31mKeyError\u001b[0m                                  Traceback (most recent call last)",
      "\u001b[0;32m<ipython-input-2-81ff4986492d>\u001b[0m in \u001b[0;36m<module>\u001b[0;34m\u001b[0m\n\u001b[0;32m----> 1\u001b[0;31m \u001b[0mextractWordFeatures\u001b[0m\u001b[0;34m(\u001b[0m\u001b[0;34m'I am what I am'\u001b[0m\u001b[0;34m)\u001b[0m\u001b[0;34m\u001b[0m\u001b[0;34m\u001b[0m\u001b[0m\n\u001b[0m",
      "\u001b[0;32m<ipython-input-1-fe8acf360b46>\u001b[0m in \u001b[0;36mextractWordFeatures\u001b[0;34m(x)\u001b[0m\n\u001b[1;32m     12\u001b[0m     \u001b[0mphi\u001b[0m \u001b[0;34m=\u001b[0m \u001b[0;34m{\u001b[0m\u001b[0;34m}\u001b[0m\u001b[0;34m\u001b[0m\u001b[0;34m\u001b[0m\u001b[0m\n\u001b[1;32m     13\u001b[0m     \u001b[0;32mfor\u001b[0m \u001b[0mword\u001b[0m \u001b[0;32min\u001b[0m \u001b[0mwords\u001b[0m\u001b[0;34m:\u001b[0m\u001b[0;34m\u001b[0m\u001b[0;34m\u001b[0m\u001b[0m\n\u001b[0;32m---> 14\u001b[0;31m         \u001b[0mphi\u001b[0m\u001b[0;34m[\u001b[0m\u001b[0mword\u001b[0m\u001b[0;34m]\u001b[0m \u001b[0;34m+=\u001b[0m \u001b[0;36m1\u001b[0m\u001b[0;34m\u001b[0m\u001b[0;34m\u001b[0m\u001b[0m\n\u001b[0m\u001b[1;32m     15\u001b[0m     \u001b[0;32mreturn\u001b[0m \u001b[0mphi\u001b[0m\u001b[0;34m\u001b[0m\u001b[0;34m\u001b[0m\u001b[0m\n",
      "\u001b[0;31mKeyError\u001b[0m: 'I'"
     ]
    }
   ],
   "source": [
    "extractWordFeatures('I am what I am')"
   ]
  },
  {
   "cell_type": "code",
   "execution_count": 3,
   "id": "226cb6da",
   "metadata": {},
   "outputs": [],
   "source": [
    "a = 'I am what I am'"
   ]
  },
  {
   "cell_type": "code",
   "execution_count": 5,
   "id": "94a8493f",
   "metadata": {},
   "outputs": [],
   "source": [
    "phi = {}"
   ]
  },
  {
   "cell_type": "code",
   "execution_count": 6,
   "id": "d2d9709c",
   "metadata": {},
   "outputs": [],
   "source": [
    "words = a.split()"
   ]
  },
  {
   "cell_type": "code",
   "execution_count": 16,
   "id": "9a72ed35",
   "metadata": {},
   "outputs": [],
   "source": [
    "for word in words:\n",
    "    if word in phi:\n",
    "        phi[word] += 1\n",
    "    else:\n",
    "        phi[word] = 1\n"
   ]
  },
  {
   "cell_type": "code",
   "execution_count": 19,
   "id": "d64e6887",
   "metadata": {},
   "outputs": [],
   "source": [
    "    def extract(x):\n",
    "        pass\n",
    "        # ### START CODE HERE ###\n",
    "        answer = {}\n",
    "        noSpace = x.replace(' ', '')\n",
    "        for i in range(len(noSpace) - n + 1):\n",
    "            word = noSpace[i:i + n]\n",
    "            if word in answer:\n",
    "                answer[word] += 1\n",
    "            else:\n",
    "                answer[word] = 1\n",
    "        return answer"
   ]
  },
  {
   "cell_type": "code",
   "execution_count": 20,
   "id": "70037761",
   "metadata": {},
   "outputs": [
    {
     "data": {
      "text/plain": [
       "{'Ili': 1,\n",
       " 'lik': 1,\n",
       " 'ike': 1,\n",
       " 'ket': 1,\n",
       " 'eta': 1,\n",
       " 'tac': 1,\n",
       " 'aco': 1,\n",
       " 'cos': 1}"
      ]
     },
     "execution_count": 20,
     "metadata": {},
     "output_type": "execute_result"
    }
   ],
   "source": [
    "n = 3\n",
    "extract('I like tacos')"
   ]
  },
  {
   "cell_type": "code",
   "execution_count": 21,
   "id": "0b8a62fd",
   "metadata": {},
   "outputs": [
    {
     "data": {
      "text/plain": [
       "{'Ili': 1,\n",
       " 'lik': 2,\n",
       " 'ike': 2,\n",
       " 'ket': 1,\n",
       " 'eta': 1,\n",
       " 'tac': 1,\n",
       " 'aco': 1,\n",
       " 'cos': 1,\n",
       " 'osl': 1,\n",
       " 'sli': 1}"
      ]
     },
     "execution_count": 21,
     "metadata": {},
     "output_type": "execute_result"
    }
   ],
   "source": [
    "extract('I like tacos like')"
   ]
  },
  {
   "cell_type": "code",
   "execution_count": 22,
   "id": "61716326",
   "metadata": {},
   "outputs": [
    {
     "ename": "NameError",
     "evalue": "name 'phi' is not defined",
     "output_type": "error",
     "traceback": [
      "\u001b[0;31m---------------------------------------------------------------------------\u001b[0m",
      "\u001b[0;31mNameError\u001b[0m                                 Traceback (most recent call last)",
      "\u001b[0;32m<ipython-input-22-e81a02498c22>\u001b[0m in \u001b[0;36m<module>\u001b[0;34m\u001b[0m\n\u001b[0;32m----> 1\u001b[0;31m \u001b[0mphi\u001b[0m\u001b[0;34m\u001b[0m\u001b[0;34m\u001b[0m\u001b[0m\n\u001b[0m",
      "\u001b[0;31mNameError\u001b[0m: name 'phi' is not defined"
     ]
    }
   ],
   "source": [
    "phi"
   ]
  },
  {
   "cell_type": "code",
   "execution_count": 23,
   "id": "a7b5eeeb",
   "metadata": {},
   "outputs": [],
   "source": [
    "dictionary = {'Ili': 1,\n",
    " 'lik': 2,\n",
    " 'ike': 2,\n",
    " 'ket': 1,\n",
    " 'eta': 1,\n",
    " 'tac': 1,\n",
    " 'aco': 1,\n",
    " 'cos': 1,\n",
    " 'osl': 1,\n",
    " 'sli': 1}"
   ]
  },
  {
   "cell_type": "code",
   "execution_count": 24,
   "id": "447c9591",
   "metadata": {},
   "outputs": [
    {
     "data": {
      "text/plain": [
       "{'Ili': 1,\n",
       " 'lik': 2,\n",
       " 'ike': 2,\n",
       " 'ket': 1,\n",
       " 'eta': 1,\n",
       " 'tac': 1,\n",
       " 'aco': 1,\n",
       " 'cos': 1,\n",
       " 'osl': 1,\n",
       " 'sli': 1}"
      ]
     },
     "execution_count": 24,
     "metadata": {},
     "output_type": "execute_result"
    }
   ],
   "source": [
    "dictionary"
   ]
  },
  {
   "cell_type": "code",
   "execution_count": 26,
   "id": "558dafff",
   "metadata": {},
   "outputs": [
    {
     "data": {
      "text/plain": [
       "2"
      ]
     },
     "execution_count": 26,
     "metadata": {},
     "output_type": "execute_result"
    }
   ],
   "source": [
    "dictionary.get('lik')"
   ]
  },
  {
   "cell_type": "code",
   "execution_count": 2,
   "id": "e18ded47",
   "metadata": {},
   "outputs": [],
   "source": [
    "import random\n"
   ]
  },
  {
   "cell_type": "code",
   "execution_count": 3,
   "id": "adadd627",
   "metadata": {},
   "outputs": [],
   "source": [
    "random.seed(42)\n",
    "phi = None\n",
    "y = None"
   ]
  },
  {
   "cell_type": "code",
   "execution_count": 4,
   "id": "c0a93b56",
   "metadata": {},
   "outputs": [],
   "source": [
    "weights = {\"hello\":1, \"world\":1}"
   ]
  },
  {
   "cell_type": "code",
   "execution_count": 5,
   "id": "3221f456",
   "metadata": {},
   "outputs": [
    {
     "name": "stdout",
     "output_type": "stream",
     "text": [
      "['hello', 'world']\n"
     ]
    }
   ],
   "source": [
    "keys = list(weights.keys())\n",
    "print(keys)"
   ]
  },
  {
   "cell_type": "code",
   "execution_count": 6,
   "id": "d4b0dac1",
   "metadata": {},
   "outputs": [
    {
     "name": "stdout",
     "output_type": "stream",
     "text": [
      "0\n"
     ]
    }
   ],
   "source": [
    "x = random.randint(0, len(weights) - 1)\n",
    "print(x)"
   ]
  },
  {
   "cell_type": "code",
   "execution_count": 7,
   "id": "46e23cf1",
   "metadata": {},
   "outputs": [
    {
     "name": "stdout",
     "output_type": "stream",
     "text": [
      "hello\n"
     ]
    }
   ],
   "source": [
    "k = keys[random.randint(0, len(weights) - 1)]\n",
    "print(k)"
   ]
  },
  {
   "cell_type": "code",
   "execution_count": 8,
   "id": "9dc53427",
   "metadata": {},
   "outputs": [
    {
     "name": "stdout",
     "output_type": "stream",
     "text": [
      "1\n"
     ]
    }
   ],
   "source": [
    "y = weights[k]\n",
    "print(y)"
   ]
  },
  {
   "cell_type": "code",
   "execution_count": 9,
   "id": "d5303118",
   "metadata": {},
   "outputs": [
    {
     "ename": "TypeError",
     "evalue": "'NoneType' object does not support item assignment",
     "output_type": "error",
     "traceback": [
      "\u001b[0;31m---------------------------------------------------------------------------\u001b[0m",
      "\u001b[0;31mTypeError\u001b[0m                                 Traceback (most recent call last)",
      "\u001b[0;32m<ipython-input-9-2e604f487964>\u001b[0m in \u001b[0;36m<module>\u001b[0;34m\u001b[0m\n\u001b[0;32m----> 1\u001b[0;31m \u001b[0mphi\u001b[0m\u001b[0;34m[\u001b[0m\u001b[0mk\u001b[0m\u001b[0;34m]\u001b[0m \u001b[0;34m=\u001b[0m \u001b[0mrandom\u001b[0m\u001b[0;34m.\u001b[0m\u001b[0mrandom\u001b[0m\u001b[0;34m(\u001b[0m\u001b[0;34m)\u001b[0m\u001b[0;34m\u001b[0m\u001b[0;34m\u001b[0m\u001b[0m\n\u001b[0m",
      "\u001b[0;31mTypeError\u001b[0m: 'NoneType' object does not support item assignment"
     ]
    }
   ],
   "source": [
    "phi[k] = random.random()"
   ]
  },
  {
   "cell_type": "code",
   "execution_count": 10,
   "id": "a5839b86",
   "metadata": {},
   "outputs": [],
   "source": [
    "phi = {}\n",
    "phi[k] = random.random()"
   ]
  },
  {
   "cell_type": "code",
   "execution_count": 11,
   "id": "abdab844",
   "metadata": {},
   "outputs": [
    {
     "name": "stdout",
     "output_type": "stream",
     "text": [
      "{'hello': 0.24489185380347622}\n"
     ]
    }
   ],
   "source": [
    "print(phi)"
   ]
  },
  {
   "cell_type": "code",
   "execution_count": 12,
   "id": "d1e7bc58",
   "metadata": {},
   "outputs": [],
   "source": [
    "def extractWordFeatures(x):\n",
    "    \"\"\"\n",
    "    Extract word features for a string x. Words are delimited by\n",
    "    whitespace characters only.\n",
    "    @param string x: \n",
    "    @return dict: feature vector representation of x.\n",
    "    Example: \"I am what I am\" --> {'I': 2, 'am': 2, 'what': 1}\n",
    "    \"\"\"\n",
    "    pass\n",
    "    # ### START CODE HERE ###\n",
    "    words = x.split()\n",
    "    phi = {}\n",
    "    for word in words:\n",
    "        if word in phi:\n",
    "            phi[word] += 1\n",
    "        else:\n",
    "            phi[word] = 1\n",
    "    return phi"
   ]
  },
  {
   "cell_type": "code",
   "execution_count": 13,
   "id": "d32b2562",
   "metadata": {},
   "outputs": [],
   "source": [
    "trainExamples = ((\"hello world\", 1), (\"goodnight moon\", -1))"
   ]
  },
  {
   "cell_type": "code",
   "execution_count": 14,
   "id": "8eacef93",
   "metadata": {},
   "outputs": [],
   "source": [
    "weights = {}"
   ]
  },
  {
   "cell_type": "code",
   "execution_count": 15,
   "id": "2b068b81",
   "metadata": {},
   "outputs": [
    {
     "data": {
      "text/plain": [
       "2"
      ]
     },
     "execution_count": 15,
     "metadata": {},
     "output_type": "execute_result"
    }
   ],
   "source": [
    "len(trainExamples)"
   ]
  },
  {
   "cell_type": "code",
   "execution_count": 16,
   "id": "d2f2d08c",
   "metadata": {},
   "outputs": [],
   "source": [
    "x_1 , y_1 = trainExamples[0]\n",
    "x_2 , y_2 = trainExamples[1]"
   ]
  },
  {
   "cell_type": "code",
   "execution_count": 17,
   "id": "2d5655d7",
   "metadata": {},
   "outputs": [
    {
     "data": {
      "text/plain": [
       "'hello world'"
      ]
     },
     "execution_count": 17,
     "metadata": {},
     "output_type": "execute_result"
    }
   ],
   "source": [
    "x_1"
   ]
  },
  {
   "cell_type": "code",
   "execution_count": 20,
   "id": "a288108c",
   "metadata": {},
   "outputs": [
    {
     "ename": "AttributeError",
     "evalue": "'int' object has no attribute 'split'",
     "output_type": "error",
     "traceback": [
      "\u001b[0;31m---------------------------------------------------------------------------\u001b[0m",
      "\u001b[0;31mAttributeError\u001b[0m                            Traceback (most recent call last)",
      "\u001b[0;32m<ipython-input-20-d051d893c3e4>\u001b[0m in \u001b[0;36m<module>\u001b[0;34m\u001b[0m\n\u001b[0;32m----> 1\u001b[0;31m \u001b[0mfeatures\u001b[0m \u001b[0;34m=\u001b[0m \u001b[0mextractWordFeatures\u001b[0m\u001b[0;34m(\u001b[0m\u001b[0mx\u001b[0m\u001b[0;34m)\u001b[0m\u001b[0;34m\u001b[0m\u001b[0;34m\u001b[0m\u001b[0m\n\u001b[0m\u001b[1;32m      2\u001b[0m \u001b[0mfeatureKeys\u001b[0m \u001b[0;34m=\u001b[0m \u001b[0mfeatures\u001b[0m\u001b[0;34m.\u001b[0m\u001b[0mkeys\u001b[0m\u001b[0;34m(\u001b[0m\u001b[0;34m)\u001b[0m\u001b[0;34m\u001b[0m\u001b[0;34m\u001b[0m\u001b[0m\n\u001b[1;32m      3\u001b[0m \u001b[0mprint\u001b[0m\u001b[0;34m(\u001b[0m\u001b[0mfeatures\u001b[0m\u001b[0;34m)\u001b[0m\u001b[0;34m\u001b[0m\u001b[0;34m\u001b[0m\u001b[0m\n\u001b[1;32m      4\u001b[0m \u001b[0mprint\u001b[0m\u001b[0;34m(\u001b[0m\u001b[0mfeatureKeys\u001b[0m\u001b[0;34m)\u001b[0m\u001b[0;34m\u001b[0m\u001b[0;34m\u001b[0m\u001b[0m\n",
      "\u001b[0;32m<ipython-input-12-6183fbb8481f>\u001b[0m in \u001b[0;36mextractWordFeatures\u001b[0;34m(x)\u001b[0m\n\u001b[1;32m      9\u001b[0m     \u001b[0;32mpass\u001b[0m\u001b[0;34m\u001b[0m\u001b[0;34m\u001b[0m\u001b[0m\n\u001b[1;32m     10\u001b[0m     \u001b[0;31m# ### START CODE HERE ###\u001b[0m\u001b[0;34m\u001b[0m\u001b[0;34m\u001b[0m\u001b[0;34m\u001b[0m\u001b[0m\n\u001b[0;32m---> 11\u001b[0;31m     \u001b[0mwords\u001b[0m \u001b[0;34m=\u001b[0m \u001b[0mx\u001b[0m\u001b[0;34m.\u001b[0m\u001b[0msplit\u001b[0m\u001b[0;34m(\u001b[0m\u001b[0;34m)\u001b[0m\u001b[0;34m\u001b[0m\u001b[0;34m\u001b[0m\u001b[0m\n\u001b[0m\u001b[1;32m     12\u001b[0m     \u001b[0mphi\u001b[0m \u001b[0;34m=\u001b[0m \u001b[0;34m{\u001b[0m\u001b[0;34m}\u001b[0m\u001b[0;34m\u001b[0m\u001b[0;34m\u001b[0m\u001b[0m\n\u001b[1;32m     13\u001b[0m     \u001b[0;32mfor\u001b[0m \u001b[0mword\u001b[0m \u001b[0;32min\u001b[0m \u001b[0mwords\u001b[0m\u001b[0;34m:\u001b[0m\u001b[0;34m\u001b[0m\u001b[0;34m\u001b[0m\u001b[0m\n",
      "\u001b[0;31mAttributeError\u001b[0m: 'int' object has no attribute 'split'"
     ]
    }
   ],
   "source": [
    "features = extractWordFeatures(x)\n",
    "featureKeys = features.keys()\n",
    "print(features)\n",
    "print(featureKeys)"
   ]
  },
  {
   "cell_type": "code",
   "execution_count": 21,
   "id": "a0cf455b",
   "metadata": {},
   "outputs": [
    {
     "name": "stdout",
     "output_type": "stream",
     "text": [
      "{'hello': 1, 'world': 1}\n",
      "dict_keys(['hello', 'world'])\n"
     ]
    }
   ],
   "source": [
    "features = extractWordFeatures(x_1)\n",
    "featureKeys = features.keys()\n",
    "print(features)\n",
    "print(featureKeys)"
   ]
  },
  {
   "cell_type": "code",
   "execution_count": 22,
   "id": "a1d21897",
   "metadata": {},
   "outputs": [
    {
     "name": "stdout",
     "output_type": "stream",
     "text": [
      "hello\n",
      "world\n"
     ]
    }
   ],
   "source": [
    "for k in featureKeys:\n",
    "    print(k)"
   ]
  },
  {
   "cell_type": "code",
   "execution_count": 23,
   "id": "55abf521",
   "metadata": {},
   "outputs": [
    {
     "data": {
      "text/plain": [
       "'world'"
      ]
     },
     "execution_count": 23,
     "metadata": {},
     "output_type": "execute_result"
    }
   ],
   "source": [
    "k"
   ]
  },
  {
   "cell_type": "code",
   "execution_count": 24,
   "id": "a22fc341",
   "metadata": {},
   "outputs": [
    {
     "data": {
      "text/plain": [
       "{}"
      ]
     },
     "execution_count": 24,
     "metadata": {},
     "output_type": "execute_result"
    }
   ],
   "source": [
    "weights"
   ]
  },
  {
   "cell_type": "code",
   "execution_count": 25,
   "id": "d10ab03a",
   "metadata": {},
   "outputs": [],
   "source": [
    "for k in featureKeys:\n",
    "    if k not in weights.keys():\n",
    "        weights[k] = 0"
   ]
  },
  {
   "cell_type": "code",
   "execution_count": 26,
   "id": "38ef2ae3",
   "metadata": {},
   "outputs": [
    {
     "data": {
      "text/plain": [
       "{'hello': 0, 'world': 0}"
      ]
     },
     "execution_count": 26,
     "metadata": {},
     "output_type": "execute_result"
    }
   ],
   "source": [
    "weights"
   ]
  },
  {
   "cell_type": "code",
   "execution_count": 27,
   "id": "5fa4e18f",
   "metadata": {},
   "outputs": [
    {
     "data": {
      "text/plain": [
       "{'hello': 1, 'world': 1}"
      ]
     },
     "execution_count": 27,
     "metadata": {},
     "output_type": "execute_result"
    }
   ],
   "source": [
    "features"
   ]
  },
  {
   "cell_type": "code",
   "execution_count": 28,
   "id": "07100c90",
   "metadata": {},
   "outputs": [
    {
     "data": {
      "text/plain": [
       "1"
      ]
     },
     "execution_count": 28,
     "metadata": {},
     "output_type": "execute_result"
    }
   ],
   "source": [
    "features[k]"
   ]
  },
  {
   "cell_type": "code",
   "execution_count": 29,
   "id": "6d932768",
   "metadata": {},
   "outputs": [
    {
     "data": {
      "text/plain": [
       "0"
      ]
     },
     "execution_count": 29,
     "metadata": {},
     "output_type": "execute_result"
    }
   ],
   "source": [
    "weights[k] * features[k]"
   ]
  },
  {
   "cell_type": "code",
   "execution_count": null,
   "id": "e8b0edfc",
   "metadata": {},
   "outputs": [],
   "source": []
  }
 ],
 "metadata": {
  "kernelspec": {
   "display_name": "XCS221",
   "language": "python",
   "name": "xcs221"
  },
  "language_info": {
   "codemirror_mode": {
    "name": "ipython",
    "version": 3
   },
   "file_extension": ".py",
   "mimetype": "text/x-python",
   "name": "python",
   "nbconvert_exporter": "python",
   "pygments_lexer": "ipython3",
   "version": "3.6.9"
  }
 },
 "nbformat": 4,
 "nbformat_minor": 5
}
